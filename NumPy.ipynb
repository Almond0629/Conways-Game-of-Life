{
 "cells": [
  {
   "cell_type": "markdown",
   "id": "c9023f97-db46-4e99-b0e3-e41382d34c3b",
   "metadata": {},
   "source": [
    "## NumPy\n",
    "By B11901018\n",
    "<br>\n",
    "source:\n",
    "__[source 1](https://ithelp.ithome.com.tw/articles/10251661)__\n",
    "__[source 2](https://www.brilliantcode.net/1022/numpy-tutorial-basics-array-creations/)__"
   ]
  },
  {
   "cell_type": "code",
   "execution_count": 1,
   "id": "e0fdd621-2992-4c76-a9bf-020b23fea908",
   "metadata": {},
   "outputs": [],
   "source": [
    "import numpy as np"
   ]
  },
  {
   "cell_type": "markdown",
   "id": "ff1d2167-6780-4789-a150-9d74dee791ff",
   "metadata": {},
   "source": [
    "### Intro & array\n",
    "`.array` creates an array\n",
    "<br>\n",
    "`.dtype` is used to see the type of an array"
   ]
  },
  {
   "cell_type": "code",
   "execution_count": 2,
   "id": "b8450dc4-94d1-4528-9166-6e18f4a5d648",
   "metadata": {},
   "outputs": [
    {
     "name": "stdout",
     "output_type": "stream",
     "text": [
      "[0 1 2 1 0] \n",
      "type = <class 'numpy.ndarray'> int64\n",
      "[0.  1.5 3.  1.5 0. ] \n",
      "type = <class 'numpy.ndarray'> float64\n"
     ]
    }
   ],
   "source": [
    "array1 = np.array([0, 1, 2, 1, 0])\n",
    "array2 = np.array([0, 1.5, 3, 1.5, 0])\n",
    "\n",
    "print(array1, \"\\ntype =\", type(array1), array1.dtype)\n",
    "print(array2, \"\\ntype =\", type(array2), array2.dtype)"
   ]
  },
  {
   "cell_type": "markdown",
   "id": "1fe4bc4f-dc96-4bf5-94f0-516ffe346df7",
   "metadata": {},
   "source": [
    "***\n",
    "`.ndim` and `.shape` is used to see its dimension\n",
    "<br>\n",
    "`.size` shows number of elements in an array"
   ]
  },
  {
   "cell_type": "code",
   "execution_count": 3,
   "id": "599ecec6-a36b-45c2-92cb-162007f8dcc3",
   "metadata": {},
   "outputs": [
    {
     "name": "stdout",
     "output_type": "stream",
     "text": [
      "[[0 1 2]\n",
      " [1 2 3]\n",
      " [2 3 4]] \n",
      "dimension = 2 \n",
      "size of every dimension = (3, 3) \n",
      "size = 9\n",
      "[[[ 0  1  2]\n",
      "  [ 1  2  3]\n",
      "  [ 2  3  4]]\n",
      "\n",
      " [[10 11 12]\n",
      "  [11 12 13]\n",
      "  [12 13 14]]] \n",
      "dimension = 3 \n",
      "size of every dimension = (2, 3, 3) \n",
      "size = 18\n"
     ]
    }
   ],
   "source": [
    "array3 = np.array([[0, 1, 2], [1, 2, 3], [2, 3, 4]])\n",
    "array4 = np.array([[[0, 1, 2], [1, 2, 3], [2, 3, 4]], [[10, 11, 12], [11, 12, 13], [12, 13, 14]]])\n",
    "\n",
    "print(array3, \"\\ndimension =\", array3.ndim, \"\\nsize of every dimension =\", array3.shape, \"\\nsize =\", array3.size)\n",
    "print(array4, \"\\ndimension =\", array4.ndim, \"\\nsize of every dimension =\", array4.shape, \"\\nsize =\", array4.size)"
   ]
  },
  {
   "cell_type": "markdown",
   "id": "94424aec-be51-4e40-9016-fb00f5476b2b",
   "metadata": {},
   "source": [
    "use `.reshape` to change the dimensions of an array\n",
    "<br>\n",
    "`ValueError` will be raised if its size doesn't match"
   ]
  },
  {
   "cell_type": "code",
   "execution_count": 4,
   "id": "4bda526f-50df-4b33-a968-84c3989ce6d5",
   "metadata": {},
   "outputs": [
    {
     "name": "stdout",
     "output_type": "stream",
     "text": [
      "array5: \n",
      " [0 1 2 3 4 5]\n",
      "array6: \n",
      " [[0 1]\n",
      " [2 3]\n",
      " [4 5]]\n"
     ]
    }
   ],
   "source": [
    "array5 = np.array([0, 1, 2, 3, 4, 5])\n",
    "array6 = array5.reshape((3, 2))\n",
    "\n",
    "print(\"array5: \\n\", array5)\n",
    "print(\"array6: \\n\", array6)"
   ]
  },
  {
   "cell_type": "code",
   "execution_count": 5,
   "id": "b78e2319-c935-4088-a398-19244ebdba8a",
   "metadata": {},
   "outputs": [
    {
     "ename": "ValueError",
     "evalue": "cannot reshape array of size 6 into shape (3,3)",
     "output_type": "error",
     "traceback": [
      "\u001b[0;31m---------------------------------------------------------------------------\u001b[0m",
      "\u001b[0;31mValueError\u001b[0m                                Traceback (most recent call last)",
      "Cell \u001b[0;32mIn [5], line 1\u001b[0m\n\u001b[0;32m----> 1\u001b[0m array7 \u001b[38;5;241m=\u001b[39m \u001b[43marray5\u001b[49m\u001b[38;5;241;43m.\u001b[39;49m\u001b[43mreshape\u001b[49m\u001b[43m(\u001b[49m\u001b[43m(\u001b[49m\u001b[38;5;241;43m3\u001b[39;49m\u001b[43m,\u001b[49m\u001b[43m \u001b[49m\u001b[38;5;241;43m3\u001b[39;49m\u001b[43m)\u001b[49m\u001b[43m)\u001b[49m\n\u001b[1;32m      2\u001b[0m \u001b[38;5;28mprint\u001b[39m(\u001b[38;5;124m\"\u001b[39m\u001b[38;5;124marray7: \u001b[39m\u001b[38;5;130;01m\\n\u001b[39;00m\u001b[38;5;124m\"\u001b[39m, array7)\n",
      "\u001b[0;31mValueError\u001b[0m: cannot reshape array of size 6 into shape (3,3)"
     ]
    }
   ],
   "source": [
    "array7 = array5.reshape((3, 3))\n",
    "print(\"array7: \\n\", array7)"
   ]
  },
  {
   "cell_type": "markdown",
   "id": "43fc238e-05c0-4eb2-ab8d-032e728d5328",
   "metadata": {
    "tags": []
   },
   "source": [
    "***\n",
    "### Create\n",
    "numpy can create an array automatically\n",
    "<br><br>\n",
    "`np.zeros` and `np.ones`\n",
    "<br>\n",
    "`x = np.zeros(count)` equals to `x = [0] * count`\n",
    "<br>\n",
    "`x = np.ones(count)` equals to `x = [1] * count`\n",
    "<br><br>\n",
    "`np.empty`\n",
    "<br>\n",
    "`x = np.empty(count)` equals to `x = [k] * count`\n",
    "<br>\n",
    "the only problem is that you don't know what k is (it just grabs data from memory)\n",
    "<br><br>\n",
    "`np.arange`\n",
    "<br>\n",
    "`x = np.arange(start, end, step)` equals to `x = [i for i in range(start, end, step)]`\n",
    "<br><br>\n",
    "`np.linspace`\n",
    "<br>\n",
    "`x = np.linspace(min, max, num)` equals to `x = [min + (max - min) * i / (num - 1) for i in range(1, num)]`\n",
    "<br>\n",
    "in other words, create an array with `num` elements between `min` and `max` (including both)\n",
    "<br>\n",
    "to \"not include\" `max`: `x = np.linspace(min, max, num, endpoint=False)`\n",
    "<br><br>\n",
    "(well, it's actually different types: \"**array**\" vs \"**list**\")\n",
    "<br>\n",
    "to make it easier to read, arrays are printed as lists below"
   ]
  },
  {
   "cell_type": "code",
   "execution_count": 6,
   "id": "31e5acd1-586f-4b63-916d-1ce2ceb49a27",
   "metadata": {},
   "outputs": [
    {
     "name": "stdout",
     "output_type": "stream",
     "text": [
      "a1:  [0.0, 0.0, 0.0, 0.0, 0.0, 0.0, 0.0, 0.0, 0.0, 0.0]\n",
      "a2:  [5.0, 5.0, 5.0, 5.0, 5.0, 5.0, 5.0, 5.0, 5.0, 5.0]\n",
      "a3:  [2.39504685e-316, 0.0, 0.0, 0.0, 0.0, 0.0, 0.0, 0.0, 0.0, 0.0, 0.0, 0.0, 0.0, 0.0, 0.0]\n",
      "a4:  [0, 1, 2, 3, 4, 5, 6, 7, 8, 9]\n",
      "a5:  [0, 2, 4, 6, 8]\n",
      "a6:  [0.0, 1.0, 2.0, 3.0, 4.0, 5.0, 6.0, 7.0, 8.0, 9.0, 10.0]\n",
      "a7:  [0.0, 2.0, 4.0, 6.0, 8.0]\n"
     ]
    }
   ],
   "source": [
    "a1 = np.zeros(10)\n",
    "a2 = np.ones(10) * 5\n",
    "a3 = np.empty(15)\n",
    "a4 = np.arange(10)\n",
    "a5 = np.arange(0, 10, 2)\n",
    "a6 = np.linspace(0, 10, 11)\n",
    "a7 = np.linspace(0, 10, 5, endpoint=False)\n",
    "\n",
    "print(\"a1: \", list(a1))\n",
    "print(\"a2: \", list(a2))\n",
    "print(\"a3: \", list(a3))\n",
    "print(\"a4: \", list(a4))\n",
    "print(\"a5: \", list(a5))\n",
    "print(\"a6: \", list(a6))\n",
    "print(\"a7: \", list(a7))"
   ]
  },
  {
   "cell_type": "markdown",
   "id": "5a9e85c7-0f03-4977-91a6-1ae78df41899",
   "metadata": {},
   "source": [
    "note that `np.zeros`, `np.ones`, `np.linspace` creates array with `float` data;\n",
    "<br>\n",
    "`np.arange` creates array with int data if start, end, step are all `int`\n",
    "<br><br>\n",
    "use `.dtype` to change data type:\n",
    "`dtype=np.int16`: change to int; `dtype=np.int16`: change to float"
   ]
  },
  {
   "cell_type": "code",
   "execution_count": 7,
   "id": "68622150-7add-4c1c-b589-a113ed62d855",
   "metadata": {},
   "outputs": [
    {
     "name": "stdout",
     "output_type": "stream",
     "text": [
      "a8:  [5.0, 5.0, 5.0, 5.0, 5.0, 5.0, 5.0, 5.0, 5.0, 5.0]\n",
      "a9:  [5, 5, 5, 5, 5, 5, 5, 5, 5, 5]\n",
      "a10:  [5.0, 5.0, 5.0, 5.0, 5.0, 5.0, 5.0, 5.0, 5.0, 5.0]\n"
     ]
    }
   ],
   "source": [
    "a8 = np.ones(10) * 5\n",
    "a9 = np.ones(10, dtype=np.int16) * 5\n",
    "a10 = np.ones(10, dtype=np.float16) * 5\n",
    "\n",
    "print(\"a8: \", list(a8))\n",
    "print(\"a9: \", list(a9))\n",
    "print(\"a10: \", list(a10))"
   ]
  },
  {
   "cell_type": "markdown",
   "id": "76451b00-8877-4031-9928-696ff5a69597",
   "metadata": {},
   "source": [
    "***\n",
    "### Calculation\n",
    "arrays can be calculated or edited as a variable\n",
    "<br>`x = np.arange(N) + 1` equals to `x = [i + 1 for i in range(N)]`"
   ]
  },
  {
   "cell_type": "code",
   "execution_count": 8,
   "id": "5e720b7d-f293-4d08-8c08-fdb5c6bdc67d",
   "metadata": {},
   "outputs": [
    {
     "name": "stdout",
     "output_type": "stream",
     "text": [
      "x+1:  [1, 2, 3, 4, 5, 6, 7, 8, 9, 10]\n",
      "x*2:  [0, 2, 4, 6, 8, 10, 12, 14, 16, 18]\n",
      "x%3:  [0, 1, 2, 0, 1, 2, 0, 1, 2, 0]\n",
      "\n",
      "x1 + x2:  [1, 4, 7, 10, 13, 16, 19, 22, 25, 28]\n",
      "x1 * x2:  [0, 4, 12, 24, 40, 60, 84, 112, 144, 180]\n"
     ]
    }
   ],
   "source": [
    "x = np.arange(10)\n",
    "x1 = x + 1\n",
    "x2 = x * 2\n",
    "x3 = x % 3\n",
    "x4 = x1 + x2\n",
    "x5 = x1 * x2\n",
    "\n",
    "print(\"x+1: \", list(x1))\n",
    "print(\"x*2: \", list(x2))\n",
    "print(\"x%3: \", list(x3))\n",
    "print()\n",
    "print(\"x1 + x2: \", list(x4))\n",
    "print(\"x1 * x2: \", list(x5))"
   ]
  },
  {
   "cell_type": "markdown",
   "id": "e467cb85-1580-4142-9bb5-f835cb61afac",
   "metadata": {},
   "source": [
    "***\n",
    "### Boolean array\n",
    "a numpy array can be seen as a variable, so using boolean (comparisons) will return a new array of `True` and `False`"
   ]
  },
  {
   "cell_type": "code",
   "execution_count": 9,
   "id": "43bef9ec-72ef-4d4b-9832-4c776f42d423",
   "metadata": {},
   "outputs": [
    {
     "name": "stdout",
     "output_type": "stream",
     "text": [
      "x:  [0 1 2 3 4 5 6 7 8 9]\n",
      "is even:  [ True False  True False  True False  True False  True False]\n"
     ]
    }
   ],
   "source": [
    "x = np.arange(10)\n",
    "y = x % 2 == 0\n",
    "\n",
    "print(\"x: \", x)\n",
    "print(\"is even: \", y)"
   ]
  },
  {
   "cell_type": "markdown",
   "id": "5067feea-b6a0-4e63-918b-1986c8421888",
   "metadata": {},
   "source": [
    "what can boolean arrays do?\n",
    "<br>\n",
    "filter!\n",
    "***\n",
    "### Replacement\n",
    "replace value below/above value: `np.clip`, `np.maximum`, `np.minimum`\n",
    "<br>\n",
    "replace with condition: `array[condition] = new_value` (this overwrites original array)\n",
    "<br>"
   ]
  },
  {
   "cell_type": "code",
   "execution_count": 10,
   "id": "0efcda50-803f-4fd6-ac97-da2180b417b5",
   "metadata": {},
   "outputs": [
    {
     "name": "stdout",
     "output_type": "stream",
     "text": [
      "x1:  [1 1 2 3 4 5 6 7 8 8]\n",
      "x2:  [5 5 5 5 5 5 6 7 8 9]\n",
      "x3:  [0 1 2 3 3 3 3 3 3 3]\n"
     ]
    }
   ],
   "source": [
    "x = np.arange(10)\n",
    "x1 = np.clip(x, 1, 8)\n",
    "x2 = np.maximum(x, 5)\n",
    "x3 = np.minimum(x, 3)\n",
    "\n",
    "print(\"x1: \", x1)\n",
    "print(\"x2: \", x2)\n",
    "print(\"x3: \", x3)"
   ]
  },
  {
   "cell_type": "code",
   "execution_count": 11,
   "id": "c4e1a6e3-352b-4992-bc38-0d9f3c186147",
   "metadata": {},
   "outputs": [
    {
     "name": "stdout",
     "output_type": "stream",
     "text": [
      "[ True False  True False  True False  True False  True False]\n",
      "[0 1 0 3 0 5 0 7 0 9]\n"
     ]
    }
   ],
   "source": [
    "x = np.arange(10)\n",
    "y = x%2 == 0\n",
    "x[x%2 == 0] = 0 # changes x\n",
    "\n",
    "print(y)\n",
    "print(x)"
   ]
  },
  {
   "cell_type": "markdown",
   "id": "b6138ac4-aba7-4467-b461-ef268f17291c",
   "metadata": {},
   "source": [
    "***\n",
    "### Indexing and slicing\n",
    "similiar to list indexing and slicing, but you can assign (change) the value"
   ]
  },
  {
   "cell_type": "code",
   "execution_count": 12,
   "id": "ffcc2cf1-dd85-45b2-b964-456a10dd7f90",
   "metadata": {},
   "outputs": [
    {
     "name": "stdout",
     "output_type": "stream",
     "text": [
      "x:  [0 1 2 3 4 5 6 7 8 9]\n",
      "reverse:  [9 8 7 6 5 4 3 2 1 0]\n",
      "first half:  [0 1 2 3 4]\n"
     ]
    }
   ],
   "source": [
    "x = np.arange(10)\n",
    "x1 = x[::-1]\n",
    "x2 = x[:5]\n",
    "\n",
    "print(\"x: \", x)\n",
    "print(\"reverse: \", x1)\n",
    "print(\"first half: \", x2)"
   ]
  },
  {
   "cell_type": "code",
   "execution_count": 13,
   "id": "b7ebef2a-644e-4eb2-be94-bdb81692e863",
   "metadata": {},
   "outputs": [
    {
     "name": "stdout",
     "output_type": "stream",
     "text": [
      "[0 1 2 3 4 5 6 7 8 9]\n",
      "[0 1 2 0 0 0 6 7 8 9]\n"
     ]
    }
   ],
   "source": [
    "x = np.arange(10)\n",
    "print(x)\n",
    "x[3:6] = 0\n",
    "print(x)"
   ]
  },
  {
   "cell_type": "markdown",
   "id": "bc6eed12-0ce2-4713-a90a-dbf64054b414",
   "metadata": {},
   "source": [
    "moreover, you can use arrays as indices"
   ]
  },
  {
   "cell_type": "code",
   "execution_count": 14,
   "id": "2a5b6137-bdfa-421b-9756-7496deeadf9c",
   "metadata": {},
   "outputs": [
    {
     "name": "stdout",
     "output_type": "stream",
     "text": [
      "x:  [ 0  1  4  9 16 25 36 49 64 81]\n",
      "y:  [0 2 4 6 8]\n",
      "x[y]:  [ 0  4 16 36 64]\n"
     ]
    }
   ],
   "source": [
    "x = np.arange(10) ** 2\n",
    "y = np.arange(0, 10, 2)\n",
    "\n",
    "print(\"x: \", x)\n",
    "print(\"y: \", y)\n",
    "print(\"x[y]: \", x[y])"
   ]
  },
  {
   "cell_type": "markdown",
   "id": "297c8e51-70b5-4fde-8454-f64b2f4950a1",
   "metadata": {},
   "source": [
    "***\n",
    "### Functions\n",
    "arrays can be changed by a np function\n",
    "<br>\n",
    "`x = np.sin(np.arange(N))` equals to `x = [math.sin(i) for i in range(N)]`\n",
    "<br>\n",
    "(note: there's quite a lot of interesting things about `np.set_printoptions`, but that's just for printing and not necessary to know\n",
    ")"
   ]
  },
  {
   "cell_type": "code",
   "execution_count": 15,
   "id": "a5b45e4d-b1cc-481b-9f81-3f7bfd8cc2cd",
   "metadata": {},
   "outputs": [
    {
     "name": "stdout",
     "output_type": "stream",
     "text": [
      "sin 0 ~ sin 3π/2:\n",
      " [ 0.     0.5    0.866  1.     0.866  0.5    0.    -0.5   -0.866 -1.   ]\n",
      "2^0 ~ 2^9:\n",
      " [  1.   2.   4.   8.  16.  32.  64. 128. 256. 512.]\n",
      "√0 ~ √9:\n",
      " [0.    1.    1.414 1.732 2.    2.236 2.449 2.646 2.828 3.   ]\n",
      "［a3］:\n",
      " [0. 1. 1. 1. 2. 2. 2. 2. 2. 3.]\n"
     ]
    }
   ],
   "source": [
    "np.set_printoptions(suppress=True, precision=3) # just to change its printing styles\n",
    "a1 = np.sin(np.arange(10) * np.pi / 6)\n",
    "a2 = np.exp2(np.arange(10))\n",
    "a3 = np.sqrt(np.arange(10))\n",
    "a4 = np.floor(a3)\n",
    "\n",
    "print(\"sin 0 ~ sin 3π/2:\\n\", a1)\n",
    "print(\"2^0 ~ 2^9:\\n\", a2)\n",
    "print(\"√0 ~ √9:\\n\", a3)\n",
    "print(\"［a3］:\\n\", a4)"
   ]
  },
  {
   "cell_type": "markdown",
   "id": "222aed77-4c6e-4737-87dd-bfaf8eedcde3",
   "metadata": {},
   "source": [
    "numpy has sort functions"
   ]
  },
  {
   "cell_type": "code",
   "execution_count": 16,
   "id": "a4437743-712c-4f6c-b299-a452ee77f11e",
   "metadata": {},
   "outputs": [
    {
     "name": "stdout",
     "output_type": "stream",
     "text": [
      "original:\n",
      " [[  1   5   2  19  15   0   2   5   7 114]\n",
      " [ 18   3   2   5   5   2   6   5  67  -1]]\n",
      "sorted:\n",
      " [[  0   1   2   2   5   5   7  15  19 114]\n",
      " [ -1   2   2   3   5   5   5   6  18  67]]\n",
      "index of sorted array:\n",
      " [[5 0 2 6 1 7 8 4 3 9]\n",
      " [9 2 5 1 3 4 7 6 0 8]]\n"
     ]
    }
   ],
   "source": [
    "x = np.array([[1, 5, 2, 19, 15, 0, 2, 5, 7, 114], [18, 3, 2, 5, 5, 2, 6, 5, 67, -1]])\n",
    "\n",
    "print(\"original:\\n\", x)\n",
    "print(\"sorted:\\n\", np.sort(x))\n",
    "print(\"index of sorted array:\\n\", np.argsort(x))"
   ]
  },
  {
   "cell_type": "markdown",
   "id": "40aaaac3-da36-4cbf-901a-2aab55da6bbf",
   "metadata": {},
   "source": [
    "***\n",
    "### Statistical functions\n",
    "`np.max`, `np.min`, `np.sum`, `np.prod`, `np.mean`, `np.cumsum`, `np.std`, `np.var`, `np.median`, `np.percentile`, `np.ptp`, etc."
   ]
  },
  {
   "cell_type": "code",
   "execution_count": 17,
   "id": "d3b87306-e4be-4ed7-a8ca-544b3be65217",
   "metadata": {},
   "outputs": [
    {
     "name": "stdout",
     "output_type": "stream",
     "text": [
      "x:  [ 1  2  3  4  5  6  7  8  9 10]\n",
      "min:  1\n",
      "max:  10\n",
      "sum:  55\n",
      "product:  3628800\n",
      "mean:  5.5\n",
      "cumulative sum:  [ 1  3  6 10 15 21 28 36 45 55]\n"
     ]
    }
   ],
   "source": [
    "x = np.arange(1, 11)\n",
    "x1 = x.min()\n",
    "x2 = x.max()\n",
    "x3 = x.sum()\n",
    "x4 = x.prod()\n",
    "x5 = x.mean()\n",
    "x6 = x.cumsum()\n",
    "\n",
    "print(\"x: \", x)\n",
    "print(\"min: \", x1)\n",
    "print(\"max: \", x2)\n",
    "print(\"sum: \", x3)\n",
    "print(\"product: \", x4)\n",
    "print(\"mean: \", x5)\n",
    "print(\"cumulative sum: \", x6)"
   ]
  },
  {
   "cell_type": "markdown",
   "id": "f7aed073-dc94-4b12-bd5d-e43bfb125552",
   "metadata": {},
   "source": [
    "the functions written above can be called from np, for example:\n",
    "<br>\n",
    "`x1 = x.min()` equals to `x1 = np.min(x)`\n",
    "<br><br>\n",
    "however, `np.median` can only be called from np, i.e., `x1 = x.median()` won't work\n",
    "<br>\n",
    "the same goes to some other functions, but that's too detailed and can be ignored here"
   ]
  },
  {
   "cell_type": "code",
   "execution_count": 18,
   "id": "c5ebbee7-9594-4634-a52b-60e553aee81e",
   "metadata": {},
   "outputs": [
    {
     "name": "stdout",
     "output_type": "stream",
     "text": [
      "x:  [ 1  2  3  4  5  6  7  8  9 10]\n",
      "standard deviation (σ):  2.8722813232690143\n",
      "variance (var):  8.25\n",
      "median (m):  5.5\n"
     ]
    }
   ],
   "source": [
    "x = np.arange(1, 11)\n",
    "x1 = x.std()\n",
    "x2 = x.var()\n",
    "x3 = np.median(x)\n",
    "\n",
    "print(\"x: \", x)\n",
    "print(\"standard deviation (σ): \", x1)\n",
    "print(\"variance (var): \", x2)\n",
    "print(\"median (m): \", x3)"
   ]
  },
  {
   "cell_type": "markdown",
   "id": "88106f54-1828-409b-afce-de062fae63ca",
   "metadata": {},
   "source": [
    "***\n",
    "### Matrix functions\n",
    "matrixs are usually 2-d, but numpy supports any dimensions (mostly, I guess)"
   ]
  },
  {
   "cell_type": "code",
   "execution_count": 19,
   "id": "1a5f9db0-2249-4f3c-880b-81ee98b68c2a",
   "metadata": {},
   "outputs": [
    {
     "name": "stdout",
     "output_type": "stream",
     "text": [
      "original:\n",
      " [[0 1]\n",
      " [2 3]]\n",
      "transpose:\n",
      " [[0 2]\n",
      " [1 3]]\n",
      "flattened:\n",
      " [0 1 2 3]\n"
     ]
    }
   ],
   "source": [
    "x = np.array([[0, 1], [2, 3]])\n",
    "t = x.T\n",
    "r = x.ravel()\n",
    "\n",
    "print(\"original:\\n\", x)\n",
    "print(\"transpose:\\n\", t)\n",
    "print(\"flattened:\\n\", r)"
   ]
  },
  {
   "cell_type": "code",
   "execution_count": 20,
   "id": "eac67bcd-b50e-4248-bd82-6a0ab0e499d9",
   "metadata": {},
   "outputs": [
    {
     "name": "stdout",
     "output_type": "stream",
     "text": [
      "2*2 i:\n",
      " [[1. 0.]\n",
      " [0. 1.]]\n",
      "3*3 i:\n",
      " [[1. 0. 0.]\n",
      " [0. 1. 0.]\n",
      " [0. 0. 1.]]\n"
     ]
    }
   ],
   "source": [
    "i2 = np.eye(2)\n",
    "i3 = np.eye(3)\n",
    "\n",
    "print(\"2*2 i:\\n\", i2)\n",
    "print(\"3*3 i:\\n\", i3)"
   ]
  },
  {
   "cell_type": "markdown",
   "id": "d8317b17-9754-4a4a-b9f9-f379ac65ecaf",
   "metadata": {},
   "source": [
    "stacking and splitting: `np._stack`, `np._split`, where `_` is h for horizontal and v for vertical\n",
    "<br>\n",
    "note that splitting an array makes a **list** of splitted **array**"
   ]
  },
  {
   "cell_type": "code",
   "execution_count": 21,
   "id": "bed559f4-0215-4bf0-9a63-a62b54df9244",
   "metadata": {},
   "outputs": [
    {
     "name": "stdout",
     "output_type": "stream",
     "text": [
      "original:\n",
      " [[ 0  1  2  3  4  5]\n",
      " [ 6  7  8  9 10 11]]\n",
      "horizontal stacking:\n",
      " [[ 0  1  2  3  4  5  0  1  2  3  4  5]\n",
      " [ 6  7  8  9 10 11  6  7  8  9 10 11]]\n",
      "vertical stacking:\n",
      " [[ 0  1  2  3  4  5]\n",
      " [ 6  7  8  9 10 11]\n",
      " [ 0  1  2  3  4  5]\n",
      " [ 6  7  8  9 10 11]]\n",
      "horizontal splitting:\n",
      "[[0 1]\n",
      " [6 7]]\n",
      "[[2 3]\n",
      " [8 9]]\n",
      "[[ 4  5]\n",
      " [10 11]]\n",
      "vertical splitting:\n",
      "[[0 1 2 3 4 5]]\n",
      "[[ 6  7  8  9 10 11]]\n"
     ]
    }
   ],
   "source": [
    "x = np.array([[0, 1, 2, 3, 4, 5], [6, 7, 8, 9, 10, 11]])\n",
    "h_stack = np.hstack((x, x))\n",
    "v_stack = np.vstack((x, x))\n",
    "h_split = np.hsplit(x, 3)\n",
    "v_split = np.vsplit(x, 2)\n",
    "\n",
    "print(\"original:\\n\", x)\n",
    "print(\"horizontal stacking:\\n\", h_stack)\n",
    "print(\"vertical stacking:\\n\", v_stack)\n",
    "print(\"horizontal splitting:\")\n",
    "for i in h_split:\n",
    "\tprint(i)\n",
    "print(\"vertical splitting:\")\n",
    "for j in v_split:\n",
    "\tprint(j)"
   ]
  },
  {
   "cell_type": "markdown",
   "id": "e736ed5b-57d7-4777-be45-67349c9117a1",
   "metadata": {},
   "source": [
    "***\n",
    "### Random functions\n",
    "(not *random* functions of numpy, but functions that generates random numbers)\n",
    "<br>\n",
    "`np.random.rand(shape)`: array of `shape` filled with random floats between 0 and 1\n",
    "<br>\n",
    "`np.random.random(num)`: `num` random floats between 0 and 1\n",
    "<br>\n",
    "`np.random.randint(min, max, num)`: `num` random integers between `min` and `max` (not include `max - 1`)\n",
    "<br>\n",
    "`np.random.choice(range, num, replace)`: `num` random integers between `0` and `range` (not include `range - 1`), doesn't repeat if `replace=False`"
   ]
  },
  {
   "cell_type": "code",
   "execution_count": 22,
   "id": "ef0e3fff-c6aa-4f37-b853-e1abefe7bb58",
   "metadata": {},
   "outputs": [
    {
     "name": "stdout",
     "output_type": "stream",
     "text": [
      "rand, shape = (2):\n",
      " [0.723 0.769]\n",
      "rand, shape = (3, 2):\n",
      " [[0.129 0.634]\n",
      " [0.452 0.548]\n",
      " [0.093 0.478]]\n",
      "random, num = 3:\n",
      " [0.609 0.742 0.255]\n",
      "randint, range = 10~61, num = 10:\n",
      " [82 98 94 75 71 68 82 60 63 93]\n",
      "choice, range = 11, num = 10:, repeat = True\n",
      " [0 3 6 1 2 4 4 1 7 2]\n",
      "choice, range = 11, num = 10:, repeat = False\n",
      " [10  6  0  7  8  1  3  9  2  4]\n"
     ]
    }
   ],
   "source": [
    "print(\"rand, shape = (2):\\n\",np.random.rand(2))\n",
    "print(\"rand, shape = (3, 2):\\n\",np.random.rand(3, 2))\n",
    "print(\"random, num = 3:\\n\",np.random.random(3))\n",
    "print(\"randint, range = 10~61, num = 10:\\n\", np.random.randint(60, 101, 10))\n",
    "print(\"choice, range = 11, num = 10:, repeat = True\\n\", np.random.choice(11, 10, True))\n",
    "print(\"choice, range = 11, num = 10:, repeat = False\\n\", np.random.choice(11, 10, False))"
   ]
  },
  {
   "cell_type": "markdown",
   "id": "48d96e74-533f-4a3a-8227-aec28e6a6c8d",
   "metadata": {},
   "source": [
    "***\n",
    "#### End"
   ]
  }
 ],
 "metadata": {
  "kernelspec": {
   "display_name": "Python 3 (ipykernel)",
   "language": "python",
   "name": "python3"
  },
  "language_info": {
   "codemirror_mode": {
    "name": "ipython",
    "version": 3
   },
   "file_extension": ".py",
   "mimetype": "text/x-python",
   "name": "python",
   "nbconvert_exporter": "python",
   "pygments_lexer": "ipython3",
   "version": "3.8.10"
  }
 },
 "nbformat": 4,
 "nbformat_minor": 5
}
